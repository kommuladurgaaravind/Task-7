{
 "cells": [
  {
   "cell_type": "code",
   "execution_count": 1,
   "id": "4fe852fe-b843-4d32-a4f8-9d7766df12c6",
   "metadata": {},
   "outputs": [],
   "source": [
    "import sqlite3\n"
   ]
  },
  {
   "cell_type": "code",
   "execution_count": 2,
   "id": "5025961f-fd49-4a5c-a960-1cafc8be89ce",
   "metadata": {},
   "outputs": [],
   "source": [
    "conn = sqlite3.connect('sales_data.db')\n",
    "cursor = conn.cursor()\n"
   ]
  },
  {
   "cell_type": "code",
   "execution_count": 3,
   "id": "17ecb288-0389-409e-b854-3b82db352e67",
   "metadata": {},
   "outputs": [
    {
     "data": {
      "text/plain": [
       "<sqlite3.Cursor at 0x1dfc1b47b40>"
      ]
     },
     "execution_count": 3,
     "metadata": {},
     "output_type": "execute_result"
    }
   ],
   "source": [
    "cursor.execute('''\n",
    "    CREATE TABLE IF NOT EXISTS sales (\n",
    "        id INTEGER PRIMARY KEY AUTOINCREMENT,\n",
    "        product TEXT,\n",
    "        quantity INTEGER,\n",
    "        price REAL\n",
    "    )\n",
    "''')"
   ]
  },
  {
   "cell_type": "code",
   "execution_count": 4,
   "id": "e47d5e42-92eb-4a83-a7fd-4ad448f63f5a",
   "metadata": {},
   "outputs": [
    {
     "data": {
      "text/plain": [
       "<sqlite3.Cursor at 0x1dfc1b47b40>"
      ]
     },
     "execution_count": 4,
     "metadata": {},
     "output_type": "execute_result"
    }
   ],
   "source": [
    "sample_data = [\n",
    "    ('Apple', 10, 2.5),\n",
    "    ('Banana', 5, 1.0),\n",
    "    ('Orange', 8, 1.5),\n",
    "    ('Apple', 6, 2.5),\n",
    "    ('Banana', 7, 1.0),\n",
    "    ('Orange', 4, 1.5)\n",
    "]\n",
    "cursor.executemany('INSERT INTO sales (product, quantity, price) VALUES (?, ?, ?)', sample_data)\n"
   ]
  },
  {
   "cell_type": "code",
   "execution_count": 5,
   "id": "74a9d8da-0d7d-4060-8101-69eb36ec58ea",
   "metadata": {},
   "outputs": [],
   "source": [
    "conn.commit()\n",
    "conn.close()"
   ]
  },
  {
   "cell_type": "code",
   "execution_count": 6,
   "id": "5733f10d-3ec9-477b-891c-4f1833a20f36",
   "metadata": {},
   "outputs": [],
   "source": [
    "import pandas as pd\n",
    "\n",
    "# Connect to DB\n",
    "conn = sqlite3.connect('sales_data.db')\n",
    "\n",
    "# SQL Query\n",
    "query = '''\n",
    "    SELECT product, \n",
    "           SUM(quantity) AS total_qty, \n",
    "           SUM(quantity * price) AS revenue \n",
    "    FROM sales \n",
    "    GROUP BY product\n",
    "'''"
   ]
  },
  {
   "cell_type": "code",
   "execution_count": 8,
   "id": "d778b0d7-502c-46d8-bae9-8d7cd2e5e3d4",
   "metadata": {},
   "outputs": [
    {
     "name": "stdout",
     "output_type": "stream",
     "text": [
      "  product  total_qty  revenue\n",
      "0   Apple         16     40.0\n",
      "1  Banana         12     12.0\n",
      "2  Orange         12     18.0\n"
     ]
    }
   ],
   "source": [
    "df = pd.read_sql_query(query, conn)\n",
    "print(df)\n",
    "\n",
    "conn.close()\n"
   ]
  },
  {
   "cell_type": "code",
   "execution_count": 9,
   "id": "507ad563-af50-423e-a788-9dea1c8872d6",
   "metadata": {},
   "outputs": [
    {
     "data": {
      "image/png": "[encoded data removed]",
      "text/plain": [
       "<Figure size 640x480 with 1 Axes>"
      ]
     },
     "metadata": {},
     "output_type": "display_data"
    }
   ],
   "source": [
    "import matplotlib.pyplot as plt\n",
    "\n",
    "# Plot bar chart\n",
    "df.plot(kind='bar', x='product', y='revenue', legend=False, color='skyblue')\n",
    "plt.title('Revenue by Product')\n",
    "plt.xlabel('Product')\n",
    "plt.ylabel('Revenue')\n",
    "plt.tight_layout()\n",
    "\n",
    "# Save plot as image\n",
    "plt.savefig(\"sales_chart.png\")\n",
    "plt.show()"
   ]
  },
  {
   "cell_type": "code",
   "execution_count": null,
   "id": "46d72104-4edd-44bc-9705-b7f00e95e57c",
   "metadata": {},
   "outputs": [],
   "source": []
  }
 ],
 "metadata": {
  "kernelspec": {
   "display_name": "Python 3 (ipykernel)",
   "language": "python",
   "name": "python3"
  },
  "language_info": {
   "codemirror_mode": {
    "name": "ipython",
    "version": 3
   },
   "file_extension": ".py",
   "mimetype": "text/x-python",
   "name": "python",
   "nbconvert_exporter": "python",
   "pygments_lexer": "ipython3",
   "version": "3.11.7"
  }
 },
 "nbformat": 4,
 "nbformat_minor": 5
}
